{
 "cells": [
  {
   "cell_type": "code",
   "execution_count": 2,
   "metadata": {},
   "outputs": [],
   "source": [
    "import math\n",
    "import numpy as np\n",
    "import matplotlib.pyplot as plt\n",
    "from PIL import Image\n",
    "from skimage.metrics import structural_similarity as ssim"
   ]
  },
  {
   "cell_type": "code",
   "execution_count": 3,
   "metadata": {},
   "outputs": [
    {
     "ename": "ModuleNotFoundError",
     "evalue": "No module named 'skimage.metrics'",
     "output_type": "error",
     "traceback": [
      "\u001b[1;31m---------------------------------------------------------------------------\u001b[0m",
      "\u001b[1;31mModuleNotFoundError\u001b[0m                       Traceback (most recent call last)",
      "\u001b[1;32m<ipython-input-3-df087de91087>\u001b[0m in \u001b[0;36m<module>\u001b[1;34m\u001b[0m\n\u001b[0;32m      1\u001b[0m \u001b[1;32mfrom\u001b[0m \u001b[0mskimage\u001b[0m \u001b[1;32mimport\u001b[0m \u001b[0mdata\u001b[0m\u001b[1;33m,\u001b[0m \u001b[0mimg_as_float\u001b[0m\u001b[1;33m\u001b[0m\u001b[1;33m\u001b[0m\u001b[0m\n\u001b[1;32m----> 2\u001b[1;33m \u001b[1;32mfrom\u001b[0m \u001b[0mskimage\u001b[0m\u001b[1;33m.\u001b[0m\u001b[0mmetrics\u001b[0m \u001b[1;32mimport\u001b[0m \u001b[0mstructural_similarity\u001b[0m \u001b[1;32mas\u001b[0m \u001b[0mssim\u001b[0m\u001b[1;33m\u001b[0m\u001b[1;33m\u001b[0m\u001b[0m\n\u001b[0m",
      "\u001b[1;31mModuleNotFoundError\u001b[0m: No module named 'skimage.metrics'"
     ]
    }
   ],
   "source": [
    "from skimage import data, img_as_float\n"
   ]
  },
  {
   "cell_type": "code",
   "execution_count": 13,
   "metadata": {},
   "outputs": [],
   "source": []
  },
  {
   "cell_type": "code",
   "execution_count": 119,
   "metadata": {},
   "outputs": [
    {
     "name": "stdout",
     "output_type": "stream",
     "text": [
      "[[162 162 162 ... 170 155 128]\n",
      " [162 162 162 ... 170 155 128]\n",
      " [162 162 162 ... 170 155 128]\n",
      " ...\n",
      " [ 43  43  50 ... 104 100  98]\n",
      " [ 44  44  55 ... 104 105 108]\n",
      " [ 44  44  55 ... 104 105 108]]\n",
      "245\n",
      "25\n"
     ]
    }
   ],
   "source": [
    "# img = np.asarray(Image.open(\"C:\\\\Users\\\\I511980\\\\OneDrive - SAP SE\\\\I511980\\\\Projects\\\\PNLM\\\\demo\\\\images\\\\ckb.jpg\"))\n",
    "# img = np.asarray(Image.open(\"C:\\\\Users\\\\I511980\\\\OneDrive - SAP SE\\\\I511980\\\\Projects\\\\PNLM\\\\demo\\\\images\\\\peppers.png\"))\n",
    "# img = np.asarray(Image.open(\"C:\\\\Users\\\\I511980\\\\OneDrive - SAP SE\\\\I511980\\\\Projects\\\\PNLM\\\\demo\\\\images\\\\barbara.jpg\"))\n",
    "img = np.asarray(Image.open(\"C:\\\\Users\\\\I511980\\\\OneDrive - SAP SE\\\\I511980\\\\Projects\\\\PNLM\\\\demo\\\\images\\\\lena.png\"))\n",
    "# img.show()\n",
    "print(img)\n",
    "# print(img.format, img.size, img.mode)\n",
    "# im = PIL.Image.fromarray(numpy.uint8(I))\n",
    "print(np.max(img))\n",
    "print(np.min(img))\n",
    "# im = Image.fromarray(np.uint8(img))\n",
    "# im.show()"
   ]
  },
  {
   "cell_type": "code",
   "execution_count": 104,
   "metadata": {},
   "outputs": [],
   "source": [
    "n_row, n_col = np.shape(img)\n",
    "sigma = 50\n",
    "S = 10\n",
    "K = 3\n",
    "h = 10*sigma\n",
    "peak = 255"
   ]
  },
  {
   "cell_type": "code",
   "execution_count": 125,
   "metadata": {},
   "outputs": [
    {
     "name": "stdout",
     "output_type": "stream",
     "text": [
      "[[153.0182459  215.2727692  134.10751439 ...  96.08981343 154.57054344\n",
      "  234.77829262]\n",
      " [113.22284549 143.74062393 124.72758393 ... 143.69381038 156.95220203\n",
      "  147.37775147]\n",
      " [159.52838005 157.9394275  213.47273399 ... 178.85096001 214.78350421\n",
      "  101.81120115]\n",
      " ...\n",
      " [ 30.8241947   85.47203758  77.14246814 ...  42.52118678 105.8944817\n",
      "   39.27647382]\n",
      " [-19.2868929    4.27552846  -6.81223    ... 217.77058586  57.19880709\n",
      "  168.81102764]\n",
      " [-33.95512106  -1.54614112 153.97859807 ... 106.46051645  71.85653639\n",
      "   51.69926709]]\n",
      "415.537846256153\n",
      "-150.43566317146045\n"
     ]
    }
   ],
   "source": [
    "imgNsy = img + sigma*np.random.randn(n_row, n_col)\n",
    "print(imgNsy)\n",
    "print(np.max(imgNsy))\n",
    "print(np.min(imgNsy))\n"
   ]
  },
  {
   "cell_type": "code",
   "execution_count": 92,
   "metadata": {},
   "outputs": [],
   "source": [
    "im = Image.fromarray(np.uint8(imgNsy))\n",
    "im.show()"
   ]
  },
  {
   "cell_type": "code",
   "execution_count": 93,
   "metadata": {},
   "outputs": [],
   "source": [
    "# Additional PNLM Parameters\n",
    "param = {}\n",
    "param['alpha'] = 200\n",
    "param['tolerance'] = 10**-3\n",
    "param['itr_max'] = 50\n",
    "param['R'] = (math.sqrt(5)-1)/2"
   ]
  },
  {
   "cell_type": "code",
   "execution_count": 94,
   "metadata": {},
   "outputs": [],
   "source": [
    "l_est = 4.3*(10**-7)*(sigma**3) - 1.1*(10**-4)*(sigma**2) + 9.2*(10**-3)*sigma + 0.039\n",
    "l_min = max(0, l_est-0.1)\n",
    "l_max = l_est + 0.1"
   ]
  },
  {
   "cell_type": "code",
   "execution_count": 106,
   "metadata": {},
   "outputs": [],
   "source": [
    "def PrunedNLM(W_nlm, imgNsy, S, K, h, sigma, M_nsy, Y_swp, l_min, l_max, param):\n",
    "    iter_max = param['itr_max']\n",
    "    alpha = param['alpha']\n",
    "    tol = param['tolerance']\n",
    "    R = param['R']\n",
    "    \n",
    "    # tol -> tolerance or epsilon\n",
    "    x1 = l_max - R*(l_max - l_min)\n",
    "    x2 = l_min + R*(l_max - l_min)\n",
    "\n",
    "    f_out1, MSE_sure1 = pnlm_sure(W_nlm, imgNsy, S, K, h, x1, alpha, sigma, M_nsy, Y_swp)\n",
    "    f_out2, MSE_sure2 = pnlm_sure(W_nlm, imgNsy, S, K, h, x2, alpha, sigma, M_nsy, Y_swp)\n",
    "    \n",
    "    n_iter = 0\n",
    "    while(abs(l_max-l_min)>tol and n_iter < iter_max):\n",
    "        n_iter = n_iter + 1\n",
    "        \n",
    "        if  MSE_sure1 < MSE_sure2:\n",
    "            l_max = x2\n",
    "            x2 = x1\n",
    "            x1 = l_max - R*(l_max-l_min)\n",
    "                        \n",
    "            f_out1, MSE_sure1 = pnlm_sure(W_nlm, imgNsy, S, K, h, x1, alpha, sigma, M_nsy, Y_swp)\n",
    "            f_out2, MSE_sure2 = pnlm_sure(W_nlm, imgNsy, S, K, h, x2, alpha, sigma, M_nsy, Y_swp)\n",
    "            \n",
    "        else:\n",
    "            l_min = x1\n",
    "            x1 = x2\n",
    "            x2 = l_max - R*(l_max-l_min)\n",
    "    \n",
    "            f_out1, MSE_sure1 = pnlm_sure(W_nlm, imgNsy, S, K, h, x1, alpha, sigma, M_nsy, Y_swp)\n",
    "            f_out2, MSE_sure2 = pnlm_sure(W_nlm, imgNsy, S, K, h, x2, alpha, sigma, M_nsy, Y_swp)\n",
    "    \n",
    "    lambda_fin = 0.5*(l_max + l_min)\n",
    "    f_out, MSE_sure = pnlm_sure(W_nlm, imgNsy, S, K, h, lambda_fin, alpha, sigma, M_nsy, Y_swp) \n",
    "    return f_out, MSE_sure"
   ]
  },
  {
   "cell_type": "code",
   "execution_count": 107,
   "metadata": {},
   "outputs": [],
   "source": [
    "def pnlm_sure(A,f,S,K,h,phi_m,alpha,sig,M_nsy,Y_swp):\n",
    "    n_row, n_col = np.shape(imgNsy)\n",
    "    E = np.ones((n_row*n_col, (2*S+1)**2 )) #dtpye=int\n",
    "    ONE = np.ones(((2*S+1)**2, 1 ))\n",
    "    One = np.ones((n_row*n_col, 1 ))\n",
    "    \n",
    "    W_out = A/(E+np.exp(-alpha*(A-phi_m*E)))\n",
    "    \n",
    "    Img_out = W_out*M_nsy\n",
    "    vec_out = np.sum(Img_out, axis=1)\n",
    "    den = np.sum(W_out, axis=1)\n",
    "    v_out = vec_out/den\n",
    "    fNLM = v_out.reshape(n_row,n_col)\n",
    "#     print(vec_out.shape)\n",
    "#     print(v_out.shape)\n",
    "    x_cap = np.tile(v_out.reshape(-1,1), (1,(2*S+1)**2)) # np.matlib.repmat(v_out, 1, (2*S+1)**2)\n",
    "    y_temp = (f.T).reshape(n_row*n_col, 1) \n",
    "    y_i = np.tile(y_temp, (1,(2*S+1)**2)) # np.matlib.repmat(y_temp, 1, (2*S+1)**2)\n",
    "    W2 = (A*(E+(E+alpha*A)*np.exp(-alpha*(A-phi_m*E))))/(0.5*(h**2)*(E+np.exp(-alpha*(A-phi_m*E))**2))\n",
    "    \n",
    "    W3 = np.zeros(( n_row*n_col, (2*S+1)**2))\n",
    "    N = n_row\n",
    "    for l in range(n_col):\n",
    "        for i in range(n_row):\n",
    "            \n",
    "            for k in range(-K, K+1):\n",
    "                for j in range(-K, K+1):\n",
    "                    \n",
    "                    row = j+S\n",
    "                    col = k+S\n",
    "                    W3[i*N + l, col*(2*S+1) + row] = W2[i*N + l, col*(2*S+1) + row]\n",
    "                    \n",
    "    C_i = np.dot(W_out, ONE)\n",
    "    tmp = 1/(1+np.exp(alpha*(1-phi_m)))\n",
    "    \n",
    "#     print(W2.shape)\n",
    "#     print(x_cap.shape, y_i.shape)\n",
    "    nu = W2*(M_nsy-x_cap)*(M_nsy-y_i) + W3*(M_nsy-x_cap)*(Y_swp-y_i)\n",
    "    print((tmp*One).shape, np.sum(nu, axis = 1).shape)\n",
    "    nu1 = tmp*One + np.sum(nu, axis = 1).reshape(-1,1)\n",
    "    fr = nu1/C_i\n",
    "    div = np.sum(fr)\n",
    "    \n",
    "    SURE = ((np.sum(np.sum((fNLM-f)**2, axis=0), axis=0)/(n_row*n_col)) - sig**2 + (2*(sig**2)*div)/(n_row*n_col))\n",
    "    \n",
    "    return fNLM, SURE"
   ]
  },
  {
   "cell_type": "code",
   "execution_count": 97,
   "metadata": {},
   "outputs": [],
   "source": [
    "# compare time of * with np.multiply"
   ]
  },
  {
   "cell_type": "code",
   "execution_count": 108,
   "metadata": {},
   "outputs": [],
   "source": [
    "def NLM(img, S, K, h):\n",
    "    n_row, n_col = np.shape(img)\n",
    "    A = np.zeros((n_row*n_col, (2*S+1)**2))\n",
    "    M_nsy = np.zeros(( n_row*n_col, (2*S+1)**2))  \n",
    "    Y_swp = np.zeros(( n_row*n_col, (2*S+1)**2))\n",
    "#     padded = np.pad(img, K+S, mode='symmetric') #equiv to [K+S,K+S]\n",
    "\n",
    "    N = n_row\n",
    "    B = np.pad(img, (K+S, K+S), 'symmetric')\n",
    "    \n",
    "    for l in range(n_col):\n",
    "        for i in range(n_row):\n",
    "            Pi = B[(S+K+i)-K:(S+K+i)+K, (S+K+l)-K:(S+K+l)+K]\n",
    "            \n",
    "            for k in range(-S,S+1):\n",
    "                for j in range(-S,S+1):\n",
    "                    Pj = B[(S+K+i+j)-K:(S+K+i+j)+K, (S+K+l+k)-K:(S+K+l+k)+K]\n",
    "                    w= np.exp(-( (np.linalg.norm(Pj-Pi, 'fro'))**2 )/(h**2))\n",
    "                    \n",
    "                    row = j+S\n",
    "                    col = k+S\n",
    "\n",
    "                    A[ i*N + l, col*(2*S+1) + row ] = w\n",
    "                    M_nsy[ i*N + l, col*(2*S+1) + row ] = B[(S+K+i+j),(S+K+l+k)]\n",
    "                    Y_swp[ i*N + l, col*(2*S+1) + row ] = B[(S+K+i-j),(S+K+l-k)]\n",
    "    W = A\n",
    "    M_out = np.multiply(A, M_nsy)\n",
    "    vec_out = np.sum(M_out, axis=1)\n",
    "    den = np.sum(A, axis=1)\n",
    "    v_out = vec_out/den   \n",
    "    img_NLM = v_out.reshape((n_row, n_col))\n",
    "    return img_NLM, W, M_nsy, Y_swp          "
   ]
  },
  {
   "cell_type": "code",
   "execution_count": 126,
   "metadata": {},
   "outputs": [
    {
     "name": "stdout",
     "output_type": "stream",
     "text": [
      "[[162 162 162 ... 170 155 128]\n",
      " [162 162 162 ... 170 155 128]\n",
      " [162 162 162 ... 170 155 128]\n",
      " ...\n",
      " [ 43  43  50 ... 104 100  98]\n",
      " [ 44  44  55 ... 104 105 108]\n",
      " [ 44  44  55 ... 104 105 108]]\n"
     ]
    }
   ],
   "source": [
    "print(img)\n",
    "img_NLM, W, M_nsy, Y_swp = NLM(imgNsy, S, K, h)\n"
   ]
  },
  {
   "cell_type": "code",
   "execution_count": 127,
   "metadata": {},
   "outputs": [
    {
     "name": "stdout",
     "output_type": "stream",
     "text": [
      "(262144, 1) (262144,)\n",
      "(262144, 1) (262144,)\n",
      "(262144, 1) (262144,)\n",
      "(262144, 1) (262144,)\n",
      "(262144, 1) (262144,)\n",
      "(262144, 1) (262144,)\n",
      "(262144, 1) (262144,)\n",
      "(262144, 1) (262144,)\n",
      "(262144, 1) (262144,)\n",
      "(262144, 1) (262144,)\n",
      "(262144, 1) (262144,)\n",
      "(262144, 1) (262144,)\n",
      "(262144, 1) (262144,)\n",
      "(262144, 1) (262144,)\n",
      "(262144, 1) (262144,)\n",
      "(262144, 1) (262144,)\n",
      "(262144, 1) (262144,)\n",
      "(262144, 1) (262144,)\n",
      "(262144, 1) (262144,)\n",
      "(262144, 1) (262144,)\n",
      "(262144, 1) (262144,)\n",
      "(262144, 1) (262144,)\n",
      "(262144, 1) (262144,)\n",
      "(262144, 1) (262144,)\n",
      "(262144, 1) (262144,)\n",
      "(262144, 1) (262144,)\n",
      "(262144, 1) (262144,)\n"
     ]
    }
   ],
   "source": [
    "img_PNLM, Wa = PrunedNLM(W, imgNsy, S, K, h, sigma, M_nsy, Y_swp, l_min, l_max, param)"
   ]
  },
  {
   "cell_type": "code",
   "execution_count": null,
   "metadata": {},
   "outputs": [],
   "source": [
    "print(img_NLM)\n",
    "print(np.max(imgNsy))\n",
    "print(np.max(img_NLM))\n",
    "print(np.min(img_NLM))"
   ]
  },
  {
   "cell_type": "code",
   "execution_count": 128,
   "metadata": {},
   "outputs": [
    {
     "name": "stdout",
     "output_type": "stream",
     "text": [
      "PSNR_Nsy: 14.139814096322363\n",
      "PSNR_NLM: 24.907462617954536\n",
      "PSNR_PNLM: 26.89212119705202\n"
     ]
    }
   ],
   "source": [
    "PSNR_Nsy = 10*math.log10(n_row * n_col * peak**2 / np.sum(np.sum((imgNsy - img)**2, axis=0), axis=0) )\n",
    "PSNR_NLM = 10*math.log10(n_row * n_col * peak**2 / np.sum(np.sum((img_NLM - img)**2, axis=0), axis=0) )\n",
    "PSNR_PNLM = 10*math.log10(n_row * n_col * peak**2 / np.sum(np.sum((img_PNLM - img)**2, axis=0), axis=0) )\n",
    "print(\"PSNR_Nsy:\", PSNR_Nsy)\n",
    "print(\"PSNR_NLM:\", PSNR_NLM)\n",
    "print(\"PSNR_PNLM:\", PSNR_PNLM)"
   ]
  },
  {
   "cell_type": "code",
   "execution_count": null,
   "metadata": {},
   "outputs": [],
   "source": [
    "print(np.sum(np.sum((imgNsy - img)**2, axis=0), axis=0))\n",
    "print(n_row * n_col * peak**2/np.sum(np.sum((imgNsy - img)**2, axis=0), axis=0))\n",
    "print(np.sum(np.sum((img_NLM - img)**2, axis=0), axis=0))\n",
    "print(n_row * n_col * peak**2/np.sum(np.sum((img_NLM - img)**2, axis=0), axis=0))\n",
    "print(np.sum(np.sum((img_PNLM - img)**2, axis=0), axis=0))\n",
    "print(n_row * n_col * peak**2/np.sum(np.sum((img_PNLM - img)**2, axis=0), axis=0))"
   ]
  },
  {
   "cell_type": "code",
   "execution_count": 113,
   "metadata": {},
   "outputs": [],
   "source": [
    "im = Image.fromarray(np.uint8(img_NLM))\n",
    "im.show()\n",
    "im = Image.fromarray(np.uint8(img_PNLM))\n",
    "im.show()"
   ]
  },
  {
   "cell_type": "code",
   "execution_count": null,
   "metadata": {},
   "outputs": [],
   "source": [
    "# PSNR_Nsy: 14.147932621256679\n",
    "# PSNR_NLM: 24.852461224134224\n",
    "# PSNR_PNLM: 26.806675568559058"
   ]
  },
  {
   "cell_type": "code",
   "execution_count": 129,
   "metadata": {},
   "outputs": [
    {
     "name": "stderr",
     "output_type": "stream",
     "text": [
      "c:\\users\\i511980\\appdata\\local\\programs\\python\\python37\\lib\\site-packages\\ipykernel_launcher.py:1: UserWarning: Inputs have mismatched dtype.  Setting data_range based on im1.dtype.\n",
      "  \"\"\"Entry point for launching an IPython kernel.\n",
      "c:\\users\\i511980\\appdata\\local\\programs\\python\\python37\\lib\\site-packages\\ipykernel_launcher.py:2: UserWarning: Inputs have mismatched dtype.  Setting data_range based on im1.dtype.\n",
      "  \n"
     ]
    },
    {
     "name": "stdout",
     "output_type": "stream",
     "text": [
      "SSIM Noisy: 13.12304537474234\n",
      "SSIM NLM: 68.46721689022314\n",
      "SSIM PNLM: 72.7234937333551\n"
     ]
    },
    {
     "name": "stderr",
     "output_type": "stream",
     "text": [
      "c:\\users\\i511980\\appdata\\local\\programs\\python\\python37\\lib\\site-packages\\ipykernel_launcher.py:3: UserWarning: Inputs have mismatched dtype.  Setting data_range based on im1.dtype.\n",
      "  This is separate from the ipykernel package so we can avoid doing imports until\n"
     ]
    }
   ],
   "source": [
    "SSIM_Nsy = 100*ssim(img, imgNsy)\n",
    "SSIM_NLM = 100*ssim(img, img_NLM)\n",
    "SSIM_PNLM = 100*ssim(img, img_PNLM)\n",
    "print(\"SSIM Noisy:\", SSIM_Nsy)\n",
    "print(\"SSIM NLM:\", SSIM_NLM)\n",
    "print(\"SSIM PNLM:\", SSIM_PNLM)"
   ]
  },
  {
   "cell_type": "code",
   "execution_count": 71,
   "metadata": {},
   "outputs": [],
   "source": [
    "# img_NLM1 = img_NLM.copy()\n",
    "# W1 = W.copy()\n",
    "# M_nsy1 = M_nsy.copy()\n",
    "# Y_swp1 = Y_swp.copy()"
   ]
  },
  {
   "cell_type": "code",
   "execution_count": null,
   "metadata": {},
   "outputs": [],
   "source": [
    "assert(W1.shape == (n_h, n_x))"
   ]
  },
  {
   "cell_type": "code",
   "execution_count": null,
   "metadata": {},
   "outputs": [],
   "source": []
  },
  {
   "cell_type": "code",
   "execution_count": null,
   "metadata": {},
   "outputs": [],
   "source": [
    "\n",
    "\n",
    "\n",
    "img = img_as_float(data.camera())\n",
    "rows, cols = img.shape\n",
    "\n",
    "noise = np.ones_like(img) * 0.2 * (img.max() - img.min())\n",
    "noise[np.random.random(size=noise.shape) > 0.5] *= -1\n",
    "\n",
    "def mse(x, y):\n",
    "    return np.linalg.norm(x - y)\n",
    "\n",
    "img_noise = img + noise\n",
    "img_const = img + abs(noise)\n",
    "\n",
    "fig, axes = plt.subplots(nrows=1, ncols=3, figsize=(10, 4),\n",
    "                         sharex=True, sharey=True)\n",
    "ax = axes.ravel()\n",
    "\n",
    "mse_none = mse(img, img)\n",
    "ssim_none = ssim(img, img, data_range=img.max() - img.min())\n",
    "\n",
    "mse_noise = mse(img, img_noise)\n",
    "ssim_noise = ssim(img, img_noise,\n",
    "                  data_range=img_noise.max() - img_noise.min())\n",
    "\n",
    "mse_const = mse(img, img_const)\n",
    "ssim_const = ssim(img, img_const,\n",
    "                  data_range=img_const.max() - img_const.min())\n",
    "\n",
    "label = 'MSE: {:.2f}, SSIM: {:.2f}'\n",
    "\n",
    "ax[0].imshow(img, cmap=plt.cm.gray, vmin=0, vmax=1)\n",
    "ax[0].set_xlabel(label.format(mse_none, ssim_none))\n",
    "ax[0].set_title('Original image')\n",
    "\n",
    "ax[1].imshow(img_noise, cmap=plt.cm.gray, vmin=0, vmax=1)\n",
    "ax[1].set_xlabel(label.format(mse_noise, ssim_noise))\n",
    "ax[1].set_title('Image with noise')\n",
    "\n",
    "ax[2].imshow(img_const, cmap=plt.cm.gray, vmin=0, vmax=1)\n",
    "ax[2].set_xlabel(label.format(mse_const, ssim_const))\n",
    "ax[2].set_title('Image plus constant')\n",
    "\n",
    "plt.tight_layout()\n",
    "plt.show()"
   ]
  }
 ],
 "metadata": {
  "kernelspec": {
   "display_name": "Python 3",
   "language": "python",
   "name": "python3"
  },
  "language_info": {
   "codemirror_mode": {
    "name": "ipython",
    "version": 3
   },
   "file_extension": ".py",
   "mimetype": "text/x-python",
   "name": "python",
   "nbconvert_exporter": "python",
   "pygments_lexer": "ipython3",
   "version": "3.7.4"
  }
 },
 "nbformat": 4,
 "nbformat_minor": 2
}
